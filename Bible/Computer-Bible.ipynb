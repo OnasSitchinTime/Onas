{
 "cells": [
  {
   "cell_type": "code",
   "execution_count": null,
   "id": "edeeffaf",
   "metadata": {
    "vscode": {
     "languageId": "plaintext"
    }
   },
   "outputs": [],
   "source": [
    "COMPUTER BASICS - REVIEW GUIDE\n",
    "Understanding Computer, Internet and Developer Tooling Basics\n",
    "    Motherboard: holds all of the memory, connectors, and hard drives that are needed to run the computer. It serves as the main circuit board for the computer.\n",
    "    Central Processing Unit (a.k.a CPU): a processor that is responsible for executing instructions and performing calculations.\n",
    "    Random Access Memory (a.k.a RAM): a temporary storage location for the computer's CPU.\n",
    "    Hard Disk Drive (a.k.a HDD): a permanent storage location that is used to store data even when the computer is turned off.\n",
    "    Solid State Drive (a.k.a SSD): non-volatile flash memory and can be used in place of a hard drive.\n",
    "    Power Supply Unit (a.k.a PSU): responsible for converting the electricity from the wall outlet into a form that the computer can use.\n",
    "    Graphics Processing Unit (a.k.a GPU): responsible for rendering visuals on the computer screen.\n",
    "    Different Types of Internet Service Providers: An Internet Service Provider (ISP) is a company that provides access to the internet. There are different types of ISPs, including dial-up, DSL, cable, fiber-optic, and satellite.\n",
    "    Safe Ways to Sign Into Your Computer: Examples of safe ways to sign into your computer include using a strong password, enabling two-factor authentication, and using a password manager.\n",
    "    Integrated Development Environment (a.k.a IDE): a tool that helps developers write, test and debug code in an efficient manner.\n",
    "    Code Editor: a tool that developers use to write and debug code.\n",
    "    Git: a popular version control system that allows developers to track changes in their code and collaborate with others.\n",
    "    Cloud-based Hosting Services for Repositories: A repository is a storage location for project files and version history. Popular cloud-based hosting services for repositories include GitHub, GitLab, and Bitbucket.\n",
    "    Package Managers: tools that help developers simplify the process of adding, updating, and removing libraries and project dependencies. Examples include npm, pip, and Maven.\n",
    "    Testing Libraries and Frameworks: Testing is done in software to ensure that the code works as expected. Examples of testing libraries and frameworks include Jest, PHPUnit, and JUnit.\n",
    "Working with Files, File Systems and Media Formats\n",
    "    Best Practices for Naming Files: you will want to name your files in a way that is easy to understand and maintain. \n",
    "        Example: about-us.html is a better file name to page1.html or file12-1.html\n",
    "    Root Directory: top-level directory in a file system. Directory is another name for a folder.\n",
    "    Markdown: a markup language commonly used for documentation and README files. \n",
    "        README File: contains information about a project, such as how to install and use it, add to it, licensing etc...\n",
    "    index.html: represents the default page that is displayed when a user visits a website. i.e., the main page.\n",
    "    Create, Move, and Delete Files and Folders using Explorer/Finder: Explorer is the file manager in Windows, and Finder is the file manager in macOS. You can use these tools to create, move, and delete files and folders.\n",
    "    Searching for Files and Folders: You can use the search functionality in Explorer or Finder to find files and folders on your computer.\n",
    "    HTML, CSS and JS File Types:\n",
    "        .html - the file extension for HTML files\n",
    "        .css - the file extension for CSS files\n",
    "        .js - the file extension for JavaScript files. \n",
    "    Common Image and Graphic Formats: \n",
    "        JPEG - good for compressablity, however, you will loose image quality\n",
    "        PNG - good for transparent backgrounds and sharp lines\n",
    "        GIF - supports animations, however, has a limited colour pallet\n",
    "        SVG - for Vector Graphics, can be compressed and scaled without loosing the original quality of the image\n",
    "    Common Audio and Video Formats:\n",
    "        MP3 - commonly used for audio file formats for user files\n",
    "        MP4 - commonly used for video file formats for user files\n",
    "        MOV - video file format developed by Apple\n",
    "    Common Font Formats:\n",
    "    TTF - commonly used for TrueType fonts.\n",
    "    WOFF - commonly used for web fonts, and its sucessor;\n",
    "    WOFF2 - which provides better compression.\n",
    "    ZIP: a file format that is used to compress files and folders.\n",
    "Browsing the Web Effectively\n",
    "    What is a Web Browser?: a software application that allows users to access and view websites on the internet.\n",
    "    What is a Search Engine: a tool that allows users to search for information on the internet. \n",
    "        Examples Include: Google, Bing, and Yahoo.\n",
    "    Common Web Browsers: A few examples of common web browsers include Google Chrome, Mozilla Firefox, and Microsoft Edge.\n",
    "    Common Search Strategies: You can use \"site:\" followed by the URL of a website to search for content on that website. You can use \"filetype:\" followed by a file extension to search for files of that type. You can prefix a search term with a minus sign to exclude results containing that term. You can prefix a search term with a plus sign to include results containing that term.\n"
   ]
  }
 ],
 "metadata": {
  "language_info": {
   "name": "python"
  }
 },
 "nbformat": 4,
 "nbformat_minor": 5
}
